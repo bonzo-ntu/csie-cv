{
 "cells": [
  {
   "cell_type": "code",
   "execution_count": 22,
   "metadata": {},
   "outputs": [],
   "source": [
    "import os\n",
    "os.chdir('/home/jupyter/ntu/csie-cv/hw7')\n",
    "from PIL import Image\n",
    "import numpy as np\n",
    "import copy"
   ]
  },
  {
   "cell_type": "code",
   "execution_count": 23,
   "metadata": {},
   "outputs": [],
   "source": [
    "img = Image.open('./lena.bmp')\n",
    "img_array = np.array(img)\n",
    "width, height = img_array.shape\n",
    "img_list = img_array.tolist()"
   ]
  },
  {
   "cell_type": "code",
   "execution_count": 24,
   "metadata": {},
   "outputs": [],
   "source": [
    "def save_image(img, path='./lena.bmp'):\n",
    "    img_ = Image.fromarray(np.array(img, dtype='uint8'), mode='L')\n",
    "    img_.save(path)\n",
    "    return img_\n",
    "\n",
    "def matrix2text(matrix, file='yokoi_matrix.txt', height=height, width=width):\n",
    "    with open(file, 'w') as f:\n",
    "        for y in range(height):\n",
    "            for x in range(width):\n",
    "                s = str(matrix[y][x]) if matrix[y][x] else ' '\n",
    "                f.write(s)\n",
    "            f.write('\\n')\n",
    "\n",
    "def binarize(img, height=height, width=width):\n",
    "    for y in range(height):\n",
    "        for x in range(width):\n",
    "            img[y][x] = 255 if img[y][x] >= 128 else 0\n",
    "    return img\n",
    "\n",
    "def shrink(img, height=height, width=width, scale=2):\n",
    "    for y in range(0, height, scale):\n",
    "        for x in range(0, width, scale):\n",
    "            elm = img[y][x]\n",
    "            img[y//scale][x//scale] = elm\n",
    "    img = [ [img[y][x] for x in range(0, width//scale)] for y in range(0, height//scale)]\n",
    "    return img"
   ]
  },
  {
   "cell_type": "code",
   "execution_count": 25,
   "metadata": {},
   "outputs": [],
   "source": [
    "# in the manner of [row, col]\n",
    "k1 = [(0,1),(-1,1),(-1,0)]\n",
    "k2 = [(-1,0),(-1,-1),(0,-1)]\n",
    "k3 = [(0,-1),(1,-1),(1,0)]\n",
    "k4 = [(1,0),(1,1),(0,1)]\n",
    "k = [(0,1), (-1,0), (0,-1), (1,0)]"
   ]
  },
  {
   "cell_type": "code",
   "execution_count": 26,
   "metadata": {},
   "outputs": [
    {
     "data": {
      "image/jpeg": "[encoded data removed]",
      "image/png": "[encoded data removed]",
      "text/plain": [
       "<PIL.Image.Image image mode=L size=64x64>"
      ]
     },
     "execution_count": 26,
     "metadata": {},
     "output_type": "execute_result"
    }
   ],
   "source": [
    "result = copy.deepcopy(img_list)\n",
    "result = binarize(result)\n",
    "result = shrink(result, scale=8)\n",
    "width, height = width//8, height//8 \n",
    "save_image(result, './binarized_shrink_8.bmp')"
   ]
  },
  {
   "cell_type": "markdown",
   "metadata": {},
   "source": [
    "# Yokoi connectivity"
   ]
  },
  {
   "cell_type": "code",
   "execution_count": 27,
   "metadata": {},
   "outputs": [],
   "source": [
    "def h(b, c, d, e):\n",
    "    \"\"\"\n",
    "    b: center\n",
    "    c: 1st pixel in the kernel, connected with b\n",
    "    d: 2nd pixel in the kernel\n",
    "    e: 3rd pixel in the kernel\n",
    "    \"\"\"\n",
    "    bc, bd, be = (b == c, b == d, b==e)\n",
    "    if not bc:\n",
    "        return 's'\n",
    "    elif bd and be:\n",
    "        return 'r'\n",
    "    else:\n",
    "        return 'q'\n",
    "    \n",
    "def f(a1, a2, a3, a4):\n",
    "    cnt = {'s':0,'q':0,'r':0}\n",
    "    cnt[a1] = cnt[a1]+1\n",
    "    cnt[a2] = cnt[a2]+1\n",
    "    cnt[a3] = cnt[a3]+1\n",
    "    cnt[a4] = cnt[a4]+1\n",
    "\n",
    "    if cnt['r'] == 4:\n",
    "        return 5\n",
    "    else:\n",
    "        return cnt['q']\n",
    "    \n",
    "def get_kernel_pixels(img, y, x, kernel, height=height, width=width):\n",
    "    return [img[y+y_][x+x_] if 0 <= y+y_ < height and 0 <= x+x_ < width else 0 for y_, x_ in kernel  ]\n",
    "\n",
    "\n",
    "def yokoi(img, kernels, height=height, width=width):\n",
    "    matrix = [ [0 for x in range(width)] for y in range(height)]\n",
    "    for y in range(height):\n",
    "        for x in range(width):\n",
    "            if img[y][x]:\n",
    "                a = []\n",
    "                for kernel in kernels:\n",
    "                    a.append(\n",
    "                        h(img[y][x], *get_kernel_pixels(img, y, x, kernel, height, width))\n",
    "                        )\n",
    "                \n",
    "                matrix[y][x] = f(*a)\n",
    "    return matrix"
   ]
  },
  {
   "cell_type": "markdown",
   "metadata": {},
   "source": [
    "# pair relationship operator"
   ]
  },
  {
   "cell_type": "code",
   "execution_count": 28,
   "metadata": {},
   "outputs": [],
   "source": [
    "def f2(x0, x1, x2, x3, x4):\n",
    "    if x0 == 1:\n",
    "        if sum((x1==1, x2==1, x3==1, x4==1)) >= 1:\n",
    "            return 'p'\n",
    "        else:\n",
    "            return 'q'\n",
    "    else:\n",
    "        return 'q'\n",
    "    \n",
    "def pair_relationship(img, yokoi_matrix, kernel, height=height, width=width):\n",
    "    matrix = [ [0 for x in range(width)] for y in range(height)]\n",
    "    for y in range(height):\n",
    "        for x in range(width):\n",
    "            if img[y][x] > 0:\n",
    "                 matrix[y][x] = f2(yokoi_matrix[y][x], *get_kernel_pixels(yokoi_matrix, y, x, kernel, height, width))\n",
    "    return matrix\n"
   ]
  },
  {
   "cell_type": "markdown",
   "metadata": {},
   "source": [
    "# connected shrink operator"
   ]
  },
  {
   "cell_type": "code",
   "execution_count": 29,
   "metadata": {},
   "outputs": [],
   "source": [
    "def h3(b, c, d, e):\n",
    "    \"\"\"\n",
    "    b: center\n",
    "    c: 1st pixel in the kernel, connected with b\n",
    "    d: 2nd pixel in the kernel\n",
    "    e: 3rd pixel in the kernel\n",
    "    \"\"\"\n",
    "    bc, bd, be = (b == c, b == d, b==e)\n",
    "    return int(bc and (not bd or not be))\n",
    "    \n",
    "def f3(pixel, a1, a2, a3, a4):\n",
    "        return 0 if sum((a1, a2, a3, a4)) == 1 else pixel\n",
    "\n",
    "def connected_shrink_operator(img, pr_matrix, kernels, height=height, width=width):\n",
    "    for y in range(height):\n",
    "        for x in range(width):\n",
    "            if img[y][x] > 0 and pr_matrix[y][x] != 'q':\n",
    "                    a = []\n",
    "                    for kernel in kernels:\n",
    "                        a.append(\n",
    "                            h3(img[y][x], *get_kernel_pixels(img, y, x, kernel, height, width))\n",
    "                            )\n",
    "                    img[y][x] = f3(img[y][x], *a)\n",
    "\n",
    "    return img"
   ]
  },
  {
   "cell_type": "code",
   "execution_count": 21,
   "metadata": {},
   "outputs": [],
   "source": [
    "origin = copy.deepcopy(result)\n",
    "\n",
    "i = 1\n",
    "while True:\n",
    "    result = copy.deepcopy(origin)\n",
    "    yokoi_matrix = yokoi(result, [k1, k2, k3, k4])\n",
    "    pr_matrix = pair_relationship(result, yokoi_matrix, k)\n",
    "    result = connected_shrink_operator(result, pr_matrix, [k1, k2, k3, k4])\n",
    "    save_image(result, f'./thinning_{i}.bmp')\n",
    "\n",
    "    if (np.array(result) == np.array(origin)).all():\n",
    "        break\n",
    "    else:\n",
    "        i += 1\n",
    "        origin = copy.deepcopy(result)\n"
   ]
  },
  {
   "cell_type": "code",
   "execution_count": null,
   "metadata": {},
   "outputs": [],
   "source": []
  }
 ],
 "metadata": {
  "kernelspec": {
   "display_name": "ntu-cv",
   "language": "python",
   "name": "python3"
  },
  "language_info": {
   "codemirror_mode": {
    "name": "ipython",
    "version": 3
   },
   "file_extension": ".py",
   "mimetype": "text/x-python",
   "name": "python",
   "nbconvert_exporter": "python",
   "pygments_lexer": "ipython3",
   "version": "3.9.17"
  },
  "orig_nbformat": 4
 },
 "nbformat": 4,
 "nbformat_minor": 2
}
